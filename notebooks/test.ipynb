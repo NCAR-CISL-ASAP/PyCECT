{
 "cells": [
  {
   "cell_type": "code",
   "execution_count": 1,
   "id": "84ab5fbb-8c6e-419c-a478-6cae8fd2e638",
   "metadata": {},
   "outputs": [],
   "source": [
    "import os\n",
    "\n",
    "import matplotlib.pyplot as plt\n",
    "import netCDF4 as nc\n",
    "import numpy as np\n",
    "import seaborn as sns\n",
    "import xarray as xr"
   ]
  },
  {
   "cell_type": "code",
   "execution_count": 2,
   "id": "85e7060b-9577-482b-ab7a-aee0d97b13ff",
   "metadata": {},
   "outputs": [],
   "source": [
    "filedir = '/glade/work/abaker/jian/puma-cam6/'\n",
    "pydir = '/glade/u/home/abaker/repos/PyCECT/'"
   ]
  },
  {
   "cell_type": "code",
   "execution_count": 3,
   "id": "214dc40b-6ce9-4104-b65e-3c9283e11fa5",
   "metadata": {},
   "outputs": [],
   "source": [
    "save_filename = filedir + 'savefile_3runs.nc'\n",
    "ds = xr.open_dataset(save_filename)\n",
    "sum_filename = filedir + 'uf.ens.f19_f19_mg17.F2000dev.pumas.summary_c090823.nc'\n",
    "sum_ds = xr.open_dataset(sum_filename)"
   ]
  },
  {
   "cell_type": "code",
   "execution_count": 9,
   "id": "d50b6282-5acc-42ac-9499-4184292d6fe0",
   "metadata": {},
   "outputs": [],
   "source": [
    "# from savefile\n",
    "test_size = ds.dims['test_size']\n",
    "ens_size = ds.dims['ens_size']\n",
    "nvars = ds.dims['nvars']\n",
    "\n",
    "# get var names\n",
    "vars = ds['vars'].values\n",
    "\n",
    "# get test scores and means\n",
    "t_scores = ds['scores'].values\n",
    "t_std_gm = ds['std_gm'].values\n",
    "t_gm = ds['gm'].values\n",
    "\n",
    "# get ens pc scores distribution (nvars = npcs)\n",
    "# these are mean zero, so array just contains sigma)\n",
    "ens_score_dist = ds['ens_sigma_scores'].values\n",
    "# this is the  standardized global means (nvars by ens_size) => so dist mean = 0 for each var\n",
    "ens_std_gm = ds['ens_std_gm'].values"
   ]
  },
  {
   "cell_type": "code",
   "execution_count": 10,
   "id": "a2d950a5-c511-490b-9396-2677e59eda64",
   "metadata": {},
   "outputs": [],
   "source": [
    "# from sumfile\n",
    "ens_gm = sum_ds['global_mean'].values\n",
    "P = sum_ds['loadings_gm'].values"
   ]
  },
  {
   "cell_type": "code",
   "execution_count": 11,
   "id": "1a2eca19-a3f3-4eb1-a2d7-a32ac6df2e80",
   "metadata": {},
   "outputs": [],
   "source": [
    "str_vars = []\n",
    "for i in range(vars.size):\n",
    "    str_vars.append(vars[i].decode('UTF-8'))"
   ]
  },
  {
   "cell_type": "code",
   "execution_count": 12,
   "id": "ef3dc177-06f6-473f-b26e-a95baa4d7ca0",
   "metadata": {},
   "outputs": [
    {
     "data": {
      "text/plain": [
       "98"
      ]
     },
     "execution_count": 12,
     "metadata": {},
     "output_type": "execute_result"
    }
   ],
   "source": [
    "name = 'dst_a2'\n",
    "var_id = str_vars.index(name)\n",
    "var_id"
   ]
  },
  {
   "cell_type": "code",
   "execution_count": 16,
   "id": "0d8ea5e9-6ae2-4723-aa7f-35c9ce507a36",
   "metadata": {},
   "outputs": [
    {
     "name": "stdout",
     "output_type": "stream",
     "text": [
      "Ensemble standardized global mean distribution\n",
      "99.5 percentile =  1.994886847102695\n",
      "mean =  -4.056691490664629e-14\n",
      "min =  -4.507574812044302\n",
      "max =  2.4474573240987207\n"
     ]
    }
   ],
   "source": [
    "print('Ensemble standardized global mean distribution')\n",
    "print('99.5 percentile = ', np.percentile(ens_std_gm[var_id, :], 99.5))\n",
    "print('mean = ', ens_std_gm[var_id, :].mean())\n",
    "print('min = ', ens_std_gm[var_id, :].min())\n",
    "print('max = ', ens_std_gm[var_id, :].max())"
   ]
  },
  {
   "cell_type": "code",
   "execution_count": 17,
   "id": "8505c502-4cd9-4377-846e-c7f6a8bd24df",
   "metadata": {},
   "outputs": [
    {
     "name": "stdout",
     "output_type": "stream",
     "text": [
      "Test standardized gm\n"
     ]
    },
    {
     "data": {
      "text/plain": [
       "array([  1.1576871 , -25.00288693, -25.07065588])"
      ]
     },
     "execution_count": 17,
     "metadata": {},
     "output_type": "execute_result"
    }
   ],
   "source": [
    "print('Test standardized gm')\n",
    "t_std_gm[var_id, :]"
   ]
  },
  {
   "cell_type": "code",
   "execution_count": 18,
   "id": "7f3f7499-c64b-4ef1-bdc6-47204ee1c217",
   "metadata": {},
   "outputs": [
    {
     "name": "stdout",
     "output_type": "stream",
     "text": [
      "Ensemble ORIG global mean distribution\n",
      "mean =  6.178443962526598e-15\n",
      "min =  6.11234271347235e-15\n",
      "max =  6.214334656053772e-15\n"
     ]
    }
   ],
   "source": [
    "print('Ensemble ORIG global mean distribution')\n",
    "print('mean = ', ens_gm[var_id, :].mean())\n",
    "print('min = ', ens_gm[var_id, :].min())\n",
    "print('max = ', ens_gm[var_id, :].max())"
   ]
  },
  {
   "cell_type": "code",
   "execution_count": 19,
   "id": "bfb7162e-4f7d-471f-8dbc-182d5e7cad1b",
   "metadata": {},
   "outputs": [
    {
     "name": "stdout",
     "output_type": "stream",
     "text": [
      "Test ORIG gm\n"
     ]
    },
    {
     "data": {
      "text/plain": [
       "array([6.19542084e-15, 5.81178958e-15, 5.81079578e-15])"
      ]
     },
     "execution_count": 19,
     "metadata": {},
     "output_type": "execute_result"
    }
   ],
   "source": [
    "print('Test ORIG gm')\n",
    "t_gm[var_id, :]"
   ]
  },
  {
   "cell_type": "code",
   "execution_count": 98,
   "id": "fe69fa0c-dd49-4cde-811e-6b08760b4018",
   "metadata": {},
   "outputs": [],
   "source": [
    "# remember 0-index here compared to the pyCECT output\n",
    "# PC 5: failed 2 runs  [2, 3]\n",
    "# PC 6: failed 3 runs  [1, 2, 3]\n",
    "# PC 7: failed 2 runs  [2, 3]\n",
    "# PC 8: failed 2 runs  [2, 3]\n",
    "\n",
    "pc_id = 4  # same as 5 above"
   ]
  },
  {
   "cell_type": "code",
   "execution_count": 99,
   "id": "a9ae8f2a-eca8-47bd-a168-2598d568c520",
   "metadata": {},
   "outputs": [
    {
     "name": "stdout",
     "output_type": "stream",
     "text": [
      "ensemble: sigma =  2.9578030763011744\n",
      "ensemble: 2*sigma =  5.915606152602349\n"
     ]
    }
   ],
   "source": [
    "print('ensemble: sigma = ', ens_score_dist[pc_id])\n",
    "print('ensemble: 2*sigma = ', 2 * ens_score_dist[pc_id])"
   ]
  },
  {
   "cell_type": "code",
   "execution_count": 100,
   "id": "efb24ff8-1f74-4f9d-a00e-9ef4e35c2ec8",
   "metadata": {},
   "outputs": [
    {
     "data": {
      "text/plain": [
       "array([-1.07940943, 24.39905882, 27.25332384])"
      ]
     },
     "execution_count": 100,
     "metadata": {},
     "output_type": "execute_result"
    }
   ],
   "source": [
    "t_scores[pc_id, :]"
   ]
  },
  {
   "cell_type": "code",
   "execution_count": 101,
   "id": "c1b15c86-4aaf-44f1-929c-089eeab8cf19",
   "metadata": {},
   "outputs": [],
   "source": [
    "# which variables contribute most to this pc?\n",
    "# each column of P corresponds to the variable weights of each PC, so PC1 weights are in the first column (remember 0-indexing)\n",
    "P.shape\n",
    "wts = abs(P[:, pc_id])\n",
    "sort_wts = np.argsort(wts)[::-1]"
   ]
  },
  {
   "cell_type": "code",
   "execution_count": 102,
   "id": "89f9ba5e-2c1b-4124-a6dc-101032e968fa",
   "metadata": {},
   "outputs": [
    {
     "data": {
      "text/plain": [
       "array([215, 209, 212,  99, 240, 213, 238,  98, 210, 207, 102, 111,  97,\n",
       "       218, 217, 178, 264, 263, 177, 274])"
      ]
     },
     "execution_count": 102,
     "metadata": {},
     "output_type": "execute_result"
    }
   ],
   "source": [
    "# look at the 20 biggest weights\n",
    "sort_wts[:20]"
   ]
  },
  {
   "cell_type": "code",
   "execution_count": 103,
   "id": "e17d0923-6586-473b-b8e4-0867baca86b9",
   "metadata": {},
   "outputs": [
    {
     "data": {
      "text/plain": [
       "array([0.26960287, 0.26810269, 0.26627399, 0.23106317, 0.22440001,\n",
       "       0.20459294, 0.20453547, 0.19505496, 0.19475654, 0.18880373,\n",
       "       0.17643708, 0.13342117, 0.12903841, 0.11046072, 0.10163009,\n",
       "       0.09753223, 0.09752476, 0.09752093, 0.09750298, 0.0891191 ])"
      ]
     },
     "execution_count": 103,
     "metadata": {},
     "output_type": "execute_result"
    }
   ],
   "source": [
    "wts[sort_wts][:20]"
   ]
  },
  {
   "cell_type": "code",
   "execution_count": 104,
   "id": "de9c2285-7778-4b41-8cd5-7b195ffd8d1a",
   "metadata": {},
   "outputs": [
    {
     "name": "stdout",
     "output_type": "stream",
     "text": [
      "dst_a3_SRF :  0.2696028695522857\n",
      "dst_a1_SRF :  0.2681026914133036\n",
      "dst_a2_SRF :  0.2662739908701279\n",
      "dst_a3 :  0.23106317443207447\n",
      "num_a3_SRF :  0.22440001202523988\n",
      "dst_a3DDF :  0.2045929363567556\n",
      "num_a3DDF :  0.2045354707161037\n",
      "dst_a2 :  0.19505495851615695\n",
      "dst_a2DDF :  0.194756539971718\n",
      "dst_a1DDF :  0.18880372643904972\n",
      "dst_c3 :  0.17643707717616158\n",
      "num_a3 :  0.13342117237349407\n",
      "dst_a1 :  0.1290384126146087\n",
      "dst_c3SFWET :  0.11046071705935837\n",
      "dst_c2SFWET :  0.10163008633074497\n",
      "SO2_CMXF :  0.09753223394296479\n",
      "so4_a2_CMXF :  0.09752476462307504\n",
      "so4_a2_CLXF :  0.09752093359392637\n",
      "SO2_CLXF :  0.09750297514458574\n",
      "soa_a1_SRF :  0.08911909539703942\n"
     ]
    }
   ],
   "source": [
    "# which vars are these?\n",
    "for i in sort_wts[:20]:\n",
    "    print(str_vars[i], \": \", wts[i])"
   ]
  },
  {
   "cell_type": "code",
   "execution_count": null,
   "id": "0921a88c-a658-445e-9bc8-c9c0cd75f581",
   "metadata": {},
   "outputs": [],
   "source": []
  },
  {
   "cell_type": "code",
   "execution_count": null,
   "id": "9eba4bae-9111-4443-a624-3e98ac0e77f6",
   "metadata": {},
   "outputs": [],
   "source": []
  }
 ],
 "metadata": {
  "kernelspec": {
   "display_name": "NPL 2023b",
   "language": "python",
   "name": "npl-2023b"
  },
  "language_info": {
   "codemirror_mode": {
    "name": "ipython",
    "version": 3
   },
   "file_extension": ".py",
   "mimetype": "text/x-python",
   "name": "python",
   "nbconvert_exporter": "python",
   "pygments_lexer": "ipython3",
   "version": "3.10.12"
  }
 },
 "nbformat": 4,
 "nbformat_minor": 5
}
