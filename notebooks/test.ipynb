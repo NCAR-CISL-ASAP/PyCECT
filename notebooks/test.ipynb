{
 "cells": [
  {
   "cell_type": "code",
   "execution_count": 1,
   "id": "84ab5fbb-8c6e-419c-a478-6cae8fd2e638",
   "metadata": {},
   "outputs": [],
   "source": [
    "import json\n",
    "import os\n",
    "\n",
    "import matplotlib.pyplot as plt\n",
    "import netCDF4 as nc\n",
    "import numpy as np\n",
    "import seaborn as sns\n",
    "import xarray as xr"
   ]
  },
  {
   "cell_type": "code",
   "execution_count": 2,
   "id": "85e7060b-9577-482b-ab7a-aee0d97b13ff",
   "metadata": {},
   "outputs": [],
   "source": [
    "filedir = '/glade/work/abaker/jian/puma-cam6/'\n",
    "pydir = '/glade/u/home/abaker/repos/PyCECT/'"
   ]
  },
  {
   "cell_type": "code",
   "execution_count": 3,
   "id": "214dc40b-6ce9-4104-b65e-3c9283e11fa5",
   "metadata": {},
   "outputs": [],
   "source": [
    "save_filename = filedir + 'savefile_3runs.nc'\n",
    "ds = xr.open_dataset(save_filename)\n",
    "sum_filename = filedir + 'uf.ens.f19_f19_mg17.F2000dev.pumas.summary_c090823.nc'\n",
    "sum_ds = xr.open_dataset(sum_filename)"
   ]
  },
  {
   "cell_type": "code",
   "execution_count": 4,
   "id": "d50b6282-5acc-42ac-9499-4184292d6fe0",
   "metadata": {},
   "outputs": [],
   "source": [
    "# from savefile\n",
    "test_size = ds.dims['test_size']\n",
    "ens_size = ds.dims['ens_size']\n",
    "nvars = ds.dims['nvars']\n",
    "\n",
    "# get var names\n",
    "vars = ds['vars'].values\n",
    "\n",
    "# get test scores and means\n",
    "t_scores = ds['scores'].values\n",
    "t_std_gm = ds['std_gm'].values\n",
    "t_gm = ds['gm'].values\n",
    "\n",
    "# get ens pc scores distribution (nvars = npcs)\n",
    "# these are mean zero, so array just contains sigma)\n",
    "ens_score_dist = ds['ens_sigma_scores'].values\n",
    "# this is the  standardized global means (nvars by ens_size) => so dist mean = 0 for each var\n",
    "ens_std_gm = ds['ens_std_gm'].values"
   ]
  },
  {
   "cell_type": "code",
   "execution_count": 5,
   "id": "a2d950a5-c511-490b-9396-2677e59eda64",
   "metadata": {},
   "outputs": [],
   "source": [
    "# from sumfile\n",
    "ens_gm = sum_ds['global_mean'].values\n",
    "P = sum_ds['loadings_gm'].values"
   ]
  },
  {
   "cell_type": "code",
   "execution_count": 6,
   "id": "1a2eca19-a3f3-4eb1-a2d7-a32ac6df2e80",
   "metadata": {},
   "outputs": [],
   "source": [
    "str_vars = []\n",
    "for i in range(vars.size):\n",
    "    str_vars.append(vars[i].decode('UTF-8'))"
   ]
  },
  {
   "cell_type": "code",
   "execution_count": 7,
   "id": "ef3dc177-06f6-473f-b26e-a95baa4d7ca0",
   "metadata": {},
   "outputs": [
    {
     "data": {
      "text/plain": [
       "98"
      ]
     },
     "execution_count": 7,
     "metadata": {},
     "output_type": "execute_result"
    }
   ],
   "source": [
    "name = 'dst_a2'\n",
    "var_id = str_vars.index(name)\n",
    "var_id"
   ]
  },
  {
   "cell_type": "code",
   "execution_count": 8,
   "id": "0d8ea5e9-6ae2-4723-aa7f-35c9ce507a36",
   "metadata": {},
   "outputs": [
    {
     "name": "stdout",
     "output_type": "stream",
     "text": [
      "Ensemble standardized global mean distribution\n",
      "99.5 percentile =  1.994886847102695\n",
      "mean =  -4.056691490664629e-14\n",
      "min =  -4.507574812044302\n",
      "max =  2.4474573240987207\n"
     ]
    }
   ],
   "source": [
    "print('Ensemble standardized global mean distribution')\n",
    "print('99.5 percentile = ', np.percentile(ens_std_gm[var_id, :], 99.5))\n",
    "print('mean = ', ens_std_gm[var_id, :].mean())\n",
    "print('min = ', ens_std_gm[var_id, :].min())\n",
    "print('max = ', ens_std_gm[var_id, :].max())"
   ]
  },
  {
   "cell_type": "code",
   "execution_count": 9,
   "id": "8505c502-4cd9-4377-846e-c7f6a8bd24df",
   "metadata": {},
   "outputs": [
    {
     "name": "stdout",
     "output_type": "stream",
     "text": [
      "Test standardized gm\n"
     ]
    },
    {
     "data": {
      "text/plain": [
       "array([  1.1576871 , -25.00288693, -25.07065588])"
      ]
     },
     "execution_count": 9,
     "metadata": {},
     "output_type": "execute_result"
    }
   ],
   "source": [
    "print('Test standardized gm')\n",
    "t_std_gm[var_id, :]"
   ]
  },
  {
   "cell_type": "code",
   "execution_count": 10,
   "id": "7f3f7499-c64b-4ef1-bdc6-47204ee1c217",
   "metadata": {},
   "outputs": [
    {
     "name": "stdout",
     "output_type": "stream",
     "text": [
      "Ensemble ORIG global mean distribution\n",
      "mean =  6.178443962526598e-15\n",
      "min =  6.11234271347235e-15\n",
      "max =  6.214334656053772e-15\n"
     ]
    }
   ],
   "source": [
    "print('Ensemble ORIG global mean distribution')\n",
    "print('mean = ', ens_gm[var_id, :].mean())\n",
    "print('min = ', ens_gm[var_id, :].min())\n",
    "print('max = ', ens_gm[var_id, :].max())"
   ]
  },
  {
   "cell_type": "code",
   "execution_count": 11,
   "id": "bfb7162e-4f7d-471f-8dbc-182d5e7cad1b",
   "metadata": {},
   "outputs": [
    {
     "name": "stdout",
     "output_type": "stream",
     "text": [
      "Test ORIG gm\n"
     ]
    },
    {
     "data": {
      "text/plain": [
       "array([6.19542084e-15, 5.81178958e-15, 5.81079578e-15])"
      ]
     },
     "execution_count": 11,
     "metadata": {},
     "output_type": "execute_result"
    }
   ],
   "source": [
    "print('Test ORIG gm')\n",
    "t_gm[var_id, :]"
   ]
  },
  {
   "cell_type": "code",
   "execution_count": 12,
   "id": "fe69fa0c-dd49-4cde-811e-6b08760b4018",
   "metadata": {},
   "outputs": [],
   "source": [
    "# remember 0-index here compared to the pyCECT output\n",
    "# PC 5: failed 2 runs  [2, 3]\n",
    "# PC 6: failed 3 runs  [1, 2, 3]\n",
    "# PC 7: failed 2 runs  [2, 3]\n",
    "# PC 8: failed 2 runs  [2, 3]\n",
    "\n",
    "pc_id = 4  # same as 5 above"
   ]
  },
  {
   "cell_type": "code",
   "execution_count": 13,
   "id": "a9ae8f2a-eca8-47bd-a168-2598d568c520",
   "metadata": {},
   "outputs": [
    {
     "name": "stdout",
     "output_type": "stream",
     "text": [
      "ensemble: sigma =  2.9578030763011744\n",
      "ensemble: 2*sigma =  5.915606152602349\n"
     ]
    }
   ],
   "source": [
    "print('ensemble: sigma = ', ens_score_dist[pc_id])\n",
    "print('ensemble: 2*sigma = ', 2 * ens_score_dist[pc_id])"
   ]
  },
  {
   "cell_type": "code",
   "execution_count": 14,
   "id": "efb24ff8-1f74-4f9d-a00e-9ef4e35c2ec8",
   "metadata": {},
   "outputs": [
    {
     "data": {
      "text/plain": [
       "array([-1.07940943, 24.39905882, 27.25332384])"
      ]
     },
     "execution_count": 14,
     "metadata": {},
     "output_type": "execute_result"
    }
   ],
   "source": [
    "t_scores[pc_id, :]"
   ]
  },
  {
   "cell_type": "code",
   "execution_count": 15,
   "id": "c1b15c86-4aaf-44f1-929c-089eeab8cf19",
   "metadata": {},
   "outputs": [],
   "source": [
    "# which variables contribute most to this pc?\n",
    "# each column of P corresponds to the variable weights of each PC, so PC1 weights are in the first column (remember 0-indexing)\n",
    "P.shape\n",
    "wts = abs(P[:, pc_id])\n",
    "sort_wts = np.argsort(wts)[::-1]"
   ]
  },
  {
   "cell_type": "code",
   "execution_count": 16,
   "id": "89f9ba5e-2c1b-4124-a6dc-101032e968fa",
   "metadata": {},
   "outputs": [
    {
     "data": {
      "text/plain": [
       "array([215, 209, 212,  99, 240, 213, 238,  98, 210, 207, 102, 111,  97,\n",
       "       218, 217, 178, 264, 263, 177, 274])"
      ]
     },
     "execution_count": 16,
     "metadata": {},
     "output_type": "execute_result"
    }
   ],
   "source": [
    "# look at the 20 biggest weights\n",
    "sort_wts[:20]"
   ]
  },
  {
   "cell_type": "code",
   "execution_count": 17,
   "id": "e17d0923-6586-473b-b8e4-0867baca86b9",
   "metadata": {},
   "outputs": [
    {
     "data": {
      "text/plain": [
       "array([0.26960287, 0.26810269, 0.26627399, 0.23106317, 0.22440001,\n",
       "       0.20459294, 0.20453547, 0.19505496, 0.19475654, 0.18880373,\n",
       "       0.17643708, 0.13342117, 0.12903841, 0.11046072, 0.10163009,\n",
       "       0.09753223, 0.09752476, 0.09752093, 0.09750298, 0.0891191 ])"
      ]
     },
     "execution_count": 17,
     "metadata": {},
     "output_type": "execute_result"
    }
   ],
   "source": [
    "wts[sort_wts][:20]"
   ]
  },
  {
   "cell_type": "code",
   "execution_count": 18,
   "id": "de9c2285-7778-4b41-8cd5-7b195ffd8d1a",
   "metadata": {},
   "outputs": [
    {
     "name": "stdout",
     "output_type": "stream",
     "text": [
      "dst_a3_SRF :  0.2696028695522857\n",
      "dst_a1_SRF :  0.2681026914133036\n",
      "dst_a2_SRF :  0.2662739908701279\n",
      "dst_a3 :  0.23106317443207447\n",
      "num_a3_SRF :  0.22440001202523988\n",
      "dst_a3DDF :  0.2045929363567556\n",
      "num_a3DDF :  0.2045354707161037\n",
      "dst_a2 :  0.19505495851615695\n",
      "dst_a2DDF :  0.194756539971718\n",
      "dst_a1DDF :  0.18880372643904972\n",
      "dst_c3 :  0.17643707717616158\n",
      "num_a3 :  0.13342117237349407\n",
      "dst_a1 :  0.1290384126146087\n",
      "dst_c3SFWET :  0.11046071705935837\n",
      "dst_c2SFWET :  0.10163008633074497\n",
      "SO2_CMXF :  0.09753223394296479\n",
      "so4_a2_CMXF :  0.09752476462307504\n",
      "so4_a2_CLXF :  0.09752093359392637\n",
      "SO2_CLXF :  0.09750297514458574\n",
      "soa_a1_SRF :  0.08911909539703942\n"
     ]
    }
   ],
   "source": [
    "# which vars are these?\n",
    "for i in sort_wts[:20]:\n",
    "    print(str_vars[i], \": \", wts[i])"
   ]
  },
  {
   "cell_type": "code",
   "execution_count": 19,
   "id": "9eba4bae-9111-4443-a624-3e98ac0e77f6",
   "metadata": {},
   "outputs": [
    {
     "name": "stdout",
     "output_type": "stream",
     "text": [
      "yes\n"
     ]
    }
   ],
   "source": [
    "if 'T' in str_vars:\n",
    "    print('yes')"
   ]
  },
  {
   "cell_type": "code",
   "execution_count": 20,
   "id": "29715d23-12f0-43e3-9fa6-4c6561747416",
   "metadata": {},
   "outputs": [
    {
     "data": {
      "text/plain": [
       "64"
      ]
     },
     "execution_count": 20,
     "metadata": {},
     "output_type": "execute_result"
    }
   ],
   "source": [
    "i = \"T\"\n",
    "str_vars.index(i)"
   ]
  },
  {
   "cell_type": "code",
   "execution_count": 21,
   "id": "cdaffd6a-6d1d-452a-a685-dcab00228dbc",
   "metadata": {},
   "outputs": [],
   "source": [
    "li = ['bob', 'joe', 'frank', 'Q']\n",
    "indx = [1, 2]"
   ]
  },
  {
   "cell_type": "code",
   "execution_count": 22,
   "id": "d5f34c91-27db-4398-b200-367e6ab33947",
   "metadata": {},
   "outputs": [],
   "source": [
    "jdict = {}"
   ]
  },
  {
   "cell_type": "code",
   "execution_count": 23,
   "id": "817a1e5c-bde9-42ca-b68f-655ed6d48959",
   "metadata": {},
   "outputs": [],
   "source": [
    "jdict[\"Hey\"] = li"
   ]
  },
  {
   "cell_type": "code",
   "execution_count": 24,
   "id": "53820356-328f-4482-8fa8-064839e2d08f",
   "metadata": {},
   "outputs": [
    {
     "data": {
      "text/plain": [
       "{'Hey': ['bob', 'joe', 'frank', 'Q']}"
      ]
     },
     "execution_count": 24,
     "metadata": {},
     "output_type": "execute_result"
    }
   ],
   "source": [
    "jdict"
   ]
  },
  {
   "cell_type": "code",
   "execution_count": 25,
   "id": "b1c14dd3-f963-481d-9d81-2c1e62bfa269",
   "metadata": {},
   "outputs": [],
   "source": [
    "with open(\"sample.json\", \"w\") as outfile:\n",
    "    json.dump(jdict, outfile)"
   ]
  },
  {
   "cell_type": "code",
   "execution_count": 34,
   "id": "55fb6d61-0b37-4fee-9de7-d55386d2de68",
   "metadata": {},
   "outputs": [],
   "source": [
    "li.remove('joe')"
   ]
  },
  {
   "cell_type": "code",
   "execution_count": 35,
   "id": "0ea5a0df-b221-46e5-9e24-7fa67063b393",
   "metadata": {},
   "outputs": [
    {
     "data": {
      "text/plain": [
       "['bob', 'frank', 'Q']"
      ]
     },
     "execution_count": 35,
     "metadata": {},
     "output_type": "execute_result"
    }
   ],
   "source": [
    "li"
   ]
  },
  {
   "cell_type": "code",
   "execution_count": 36,
   "id": "31313d56-b5ac-42a4-9774-0adfdd5b1bfb",
   "metadata": {},
   "outputs": [
    {
     "data": {
      "text/plain": [
       "3"
      ]
     },
     "execution_count": 36,
     "metadata": {},
     "output_type": "execute_result"
    }
   ],
   "source": [
    "len(li)"
   ]
  },
  {
   "cell_type": "code",
   "execution_count": 8,
   "id": "c24ba4a2-dd6c-4a6e-b45d-2313d1943e68",
   "metadata": {},
   "outputs": [],
   "source": [
    "first_file = nc.Dataset('uf_test.nc', 'r')"
   ]
  },
  {
   "cell_type": "code",
   "execution_count": 4,
   "id": "c0783ac0-538b-4658-8926-2751d036cc93",
   "metadata": {},
   "outputs": [],
   "source": [
    "mpas_file = nc.Dataset('history_full.000.nc', 'r')"
   ]
  },
  {
   "cell_type": "code",
   "execution_count": 5,
   "id": "1adc698f-a8ae-4e9a-a646-f529c014ff7e",
   "metadata": {},
   "outputs": [],
   "source": [
    "vars_dict = mpas_file.variables"
   ]
  },
  {
   "cell_type": "code",
   "execution_count": 6,
   "id": "7596ac50-1cc8-46bd-96b9-fb1268eb4033",
   "metadata": {},
   "outputs": [
    {
     "data": {
      "text/plain": [
       "dict_keys(['qv', 'qc', 'qr', 'qi', 'qs', 'qg', 'latCell', 'lonCell', 'xCell', 'yCell', 'zCell', 'indexToCellID', 'latEdge', 'lonEdge', 'xEdge', 'yEdge', 'zEdge', 'indexToEdgeID', 'latVertex', 'lonVertex', 'xVertex', 'yVertex', 'zVertex', 'indexToVertexID', 'cellsOnEdge', 'nEdgesOnCell', 'nEdgesOnEdge', 'edgesOnCell', 'edgesOnEdge', 'weightsOnEdge', 'dvEdge', 'dcEdge', 'angleEdge', 'areaCell', 'areaTriangle', 'cellsOnCell', 'verticesOnCell', 'verticesOnEdge', 'edgesOnVertex', 'cellsOnVertex', 'kiteAreasOnVertex', 'meshDensity', 'zgrid', 'fzm', 'fzp', 'zz', 'initial_time', 'xtime', 'u', 'w', 'pressure', 'surface_pressure', 'rho', 'theta', 'relhum', 'divergence', 'vorticity', 'ke', 'uReconstructZonal', 'uReconstructMeridional', 'ertel_pv', 'u_pv', 'v_pv', 'theta_pv', 'vort_pv', 'depv_dt_lw', 'depv_dt_sw', 'depv_dt_bl', 'depv_dt_cu', 'depv_dt_mix', 'dtheta_dt_mp', 'depv_dt_mp', 'depv_dt_diab', 'depv_dt_fric', 'depv_dt_diab_pv', 'depv_dt_fric_pv', 'iLev_DT', 'i_rainnc', 'rainnc', 'precipw', 'cuprec', 'i_rainc', 'rainc', 'kpbl', 'hpbl', 'hfx', 'qfx', 'cd', 'cda', 'ck', 'cka', 'lh', 'u10', 'v10', 'q2', 't2m', 'th2m', 'gsw', 'glw', 'acsnow', 'pin', 'ozmixm', 'mminlu', 'isice_lu', 'iswater_lu', 'xland', 'skintemp', 'snow', 'snowh', 'sst', 'vegfra', 'xice', 'sh2o', 'smois', 'tslb'])"
      ]
     },
     "execution_count": 6,
     "metadata": {},
     "output_type": "execute_result"
    }
   ],
   "source": [
    "vars_dict.keys()"
   ]
  },
  {
   "cell_type": "code",
   "execution_count": 19,
   "id": "c29a7134-51d4-46fb-8a59-bf6547d528ff",
   "metadata": {},
   "outputs": [
    {
     "name": "stdout",
     "output_type": "stream",
     "text": [
      "float64\n",
      "float64\n",
      "float64\n",
      "float64\n",
      "float64\n",
      "float64\n",
      "float64\n",
      "float64\n",
      "float64\n",
      "float64\n",
      "float64\n",
      "int32\n",
      "yup\n",
      "float64\n",
      "float64\n",
      "float64\n",
      "float64\n",
      "float64\n",
      "int32\n",
      "yup\n",
      "float64\n",
      "float64\n",
      "float64\n",
      "float64\n",
      "float64\n",
      "int32\n",
      "yup\n",
      "int32\n",
      "yup\n",
      "int32\n",
      "yup\n",
      "int32\n",
      "yup\n",
      "int32\n",
      "yup\n",
      "int32\n",
      "yup\n",
      "float64\n",
      "float64\n",
      "float64\n",
      "float64\n",
      "float64\n",
      "float64\n",
      "int32\n",
      "yup\n",
      "int32\n",
      "yup\n",
      "int32\n",
      "yup\n",
      "int32\n",
      "yup\n",
      "int32\n",
      "yup\n",
      "float64\n",
      "float64\n",
      "float64\n",
      "float64\n",
      "float64\n",
      "float64\n",
      "|S1\n",
      "|S1\n",
      "float64\n",
      "float64\n",
      "float64\n",
      "float64\n",
      "float64\n",
      "float64\n",
      "float64\n",
      "float64\n",
      "float64\n",
      "float64\n",
      "float64\n",
      "float64\n",
      "float64\n",
      "float64\n",
      "float64\n",
      "float64\n",
      "float64\n",
      "float64\n",
      "float64\n",
      "float64\n",
      "float64\n",
      "float64\n",
      "float64\n",
      "float64\n",
      "float64\n",
      "float64\n",
      "float64\n",
      "float64\n",
      "int32\n",
      "yup\n",
      "int32\n",
      "yup\n",
      "float64\n",
      "float64\n",
      "float64\n",
      "int32\n",
      "yup\n",
      "float64\n",
      "int32\n",
      "yup\n",
      "float64\n",
      "float64\n",
      "float64\n",
      "float64\n",
      "float64\n",
      "float64\n",
      "float64\n",
      "float64\n",
      "float64\n",
      "float64\n",
      "float64\n",
      "float64\n",
      "float64\n",
      "float64\n",
      "float64\n",
      "float64\n",
      "float64\n",
      "float64\n",
      "|S1\n",
      "int32\n",
      "yup\n",
      "int32\n",
      "yup\n",
      "float64\n",
      "float64\n",
      "float64\n",
      "float64\n",
      "float64\n",
      "float64\n",
      "float64\n",
      "float64\n",
      "float64\n",
      "float64\n"
     ]
    }
   ],
   "source": [
    "for k, v in vars_dict.items():\n",
    "    dd = vars_dict[k][:].dtype\n",
    "    print(dd)\n",
    "    if dd == 'int32':\n",
    "        print('yup')"
   ]
  },
  {
   "cell_type": "code",
   "execution_count": 9,
   "id": "c153e3ef-94c5-4691-a348-58d137d64e24",
   "metadata": {},
   "outputs": [],
   "source": [
    "lev_data = first_file.variables[\"lev\"]"
   ]
  },
  {
   "cell_type": "code",
   "execution_count": 10,
   "id": "5301560c-60b3-43cd-bbbb-cbd3c48ed823",
   "metadata": {},
   "outputs": [],
   "source": [
    "var = vars_dict[\"iLev_DT\"]"
   ]
  },
  {
   "cell_type": "code",
   "execution_count": 11,
   "id": "f0dee08b-4f1d-4a89-b65f-63a2f5c7b9d2",
   "metadata": {},
   "outputs": [
    {
     "data": {
      "text/plain": [
       "dtype('int32')"
      ]
     },
     "execution_count": 11,
     "metadata": {},
     "output_type": "execute_result"
    }
   ],
   "source": [
    "var[:].dtype"
   ]
  },
  {
   "cell_type": "code",
   "execution_count": 12,
   "id": "0e7d43b4-dd17-4f65-9d0f-f4b1ab6163bd",
   "metadata": {},
   "outputs": [
    {
     "data": {
      "text/plain": [
       "netCDF4._netCDF4.Variable"
      ]
     },
     "execution_count": 12,
     "metadata": {},
     "output_type": "execute_result"
    }
   ],
   "source": [
    "type(var)"
   ]
  },
  {
   "cell_type": "code",
   "execution_count": null,
   "id": "ac2fe4ec-36e0-4153-ab9f-8ac5a592877c",
   "metadata": {},
   "outputs": [],
   "source": []
  },
  {
   "cell_type": "code",
   "execution_count": 31,
   "id": "670b346d-ceab-45a5-b6ce-e74b44aeb16b",
   "metadata": {},
   "outputs": [
    {
     "data": {
      "text/plain": [
       "masked_array(data=[  3.64346569,   7.59481965,  14.35663225,  24.61222   ,\n",
       "                    35.92325002,  43.19375008,  51.67749897,  61.52049825,\n",
       "                    73.75095785,  87.82123029, 103.31712663, 121.54724076,\n",
       "                   142.99403876, 168.22507977, 197.9080867 , 232.82861896,\n",
       "                   273.91081676, 322.24190235, 379.10090387, 445.9925741 ,\n",
       "                   524.68717471, 609.77869481, 691.38943031, 763.40448111,\n",
       "                   820.85836865, 859.53476653, 887.02024892, 912.64454694,\n",
       "                   936.19839847, 957.48547954, 976.32540739, 992.55609512],\n",
       "             mask=False,\n",
       "       fill_value=1e+20)"
      ]
     },
     "execution_count": 31,
     "metadata": {},
     "output_type": "execute_result"
    }
   ],
   "source": [
    "b"
   ]
  },
  {
   "cell_type": "code",
   "execution_count": 32,
   "id": "6a1e873d-ec5a-42b5-a964-1c96e74d479b",
   "metadata": {},
   "outputs": [],
   "source": [
    "first_file.close()"
   ]
  },
  {
   "cell_type": "code",
   "execution_count": 35,
   "id": "554b9e34-c072-4d93-af8f-96d840ab8fd4",
   "metadata": {},
   "outputs": [
    {
     "data": {
      "text/plain": [
       "masked_array(data=[  3.64346569,   7.59481965,  14.35663225,  24.61222   ,\n",
       "                    35.92325002,  43.19375008,  51.67749897,  61.52049825,\n",
       "                    73.75095785,  87.82123029, 103.31712663, 121.54724076,\n",
       "                   142.99403876, 168.22507977, 197.9080867 , 232.82861896,\n",
       "                   273.91081676, 322.24190235, 379.10090387, 445.9925741 ,\n",
       "                   524.68717471, 609.77869481, 691.38943031, 763.40448111,\n",
       "                   820.85836865, 859.53476653, 887.02024892, 912.64454694,\n",
       "                   936.19839847, 957.48547954, 976.32540739, 992.55609512],\n",
       "             mask=False,\n",
       "       fill_value=1e+20)"
      ]
     },
     "execution_count": 35,
     "metadata": {},
     "output_type": "execute_result"
    }
   ],
   "source": [
    "b[:]"
   ]
  },
  {
   "cell_type": "code",
   "execution_count": null,
   "id": "e9d739f1-4eb2-4e0e-aba9-78331a6e1379",
   "metadata": {},
   "outputs": [],
   "source": [
    "nc_sumfile = nc.Dataset('testsum.nc', 'w', format='NETCDF4_CLASSIC')\n",
    "nlev = 30\n",
    "nc_sumfile.createDimension('nlev', nlev)\n",
    "v_lev = nc_sumfile.createVariable('lev', 'f8', ('nlev',))"
   ]
  },
  {
   "cell_type": "code",
   "execution_count": null,
   "id": "d9fd2cb5-5a5a-4b31-831a-40aad91e3e75",
   "metadata": {},
   "outputs": [],
   "source": [
    "v_lev[:] = lev_data_copy[:]"
   ]
  }
 ],
 "metadata": {
  "kernelspec": {
   "display_name": "NPL 2023b",
   "language": "python",
   "name": "npl-2023b"
  },
  "language_info": {
   "codemirror_mode": {
    "name": "ipython",
    "version": 3
   },
   "file_extension": ".py",
   "mimetype": "text/x-python",
   "name": "python",
   "nbconvert_exporter": "python",
   "pygments_lexer": "ipython3",
   "version": "3.10.12"
  }
 },
 "nbformat": 4,
 "nbformat_minor": 5
}
