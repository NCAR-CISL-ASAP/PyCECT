{
 "cells": [
  {
   "cell_type": "code",
   "execution_count": 3,
   "id": "92b3b345-f06f-4752-9a66-50739f398946",
   "metadata": {},
   "outputs": [],
   "source": [
    "import os\n",
    "\n",
    "import netCDF4 as nc\n",
    "import numpy as np\n",
    "\n",
    "filedir = '/glade/scratch/abaker/mpas_hist/'\n",
    "pydir = '/glade/u/home/abaker/repos/PyCECT/'"
   ]
  },
  {
   "cell_type": "code",
   "execution_count": 2,
   "id": "a6cf04c8-025c-4bb4-9f64-3b3c47cc807d",
   "metadata": {},
   "outputs": [],
   "source": [
    "in_files_temp = os.listdir(filedir)\n",
    "in_files = sorted(in_files_temp)"
   ]
  },
  {
   "cell_type": "code",
   "execution_count": 3,
   "id": "e84e0071-b2c0-4d49-b846-6589a7c7d99f",
   "metadata": {},
   "outputs": [
    {
     "data": {
      "text/plain": [
       "['history.000.nc',\n",
       " 'history.001.nc',\n",
       " 'history.002.nc',\n",
       " 'history.003.nc',\n",
       " 'history.004.nc',\n",
       " 'history.005.nc',\n",
       " 'history.006.nc',\n",
       " 'history.007.nc',\n",
       " 'history.008.nc',\n",
       " 'history.009.nc',\n",
       " 'history.010.nc',\n",
       " 'history.011.nc',\n",
       " 'history.012.nc',\n",
       " 'history.013.nc',\n",
       " 'history.014.nc',\n",
       " 'history.015.nc',\n",
       " 'history.016.nc',\n",
       " 'history.017.nc',\n",
       " 'history.018.nc',\n",
       " 'history.019.nc',\n",
       " 'history.020.nc',\n",
       " 'history.021.nc',\n",
       " 'history.022.nc',\n",
       " 'history.023.nc',\n",
       " 'history.024.nc',\n",
       " 'history.025.nc',\n",
       " 'history.026.nc',\n",
       " 'history.027.nc',\n",
       " 'history.028.nc',\n",
       " 'history.029.nc',\n",
       " 'history.030.nc',\n",
       " 'history.031.nc',\n",
       " 'history.032.nc',\n",
       " 'history.033.nc',\n",
       " 'history.034.nc',\n",
       " 'history.035.nc',\n",
       " 'history.036.nc',\n",
       " 'history.037.nc',\n",
       " 'history.038.nc',\n",
       " 'history.039.nc',\n",
       " 'history.040.nc',\n",
       " 'history.041.nc',\n",
       " 'history.042.nc',\n",
       " 'history.043.nc',\n",
       " 'history.044.nc',\n",
       " 'history.045.nc',\n",
       " 'history.046.nc',\n",
       " 'history.047.nc',\n",
       " 'history.048.nc',\n",
       " 'history.049.nc',\n",
       " 'history.050.nc',\n",
       " 'history.051.nc',\n",
       " 'history.052.nc',\n",
       " 'history.053.nc',\n",
       " 'history.054.nc',\n",
       " 'history.055.nc',\n",
       " 'history.056.nc',\n",
       " 'history.057.nc',\n",
       " 'history.058.nc',\n",
       " 'history.059.nc',\n",
       " 'history.060.nc',\n",
       " 'history.061.nc',\n",
       " 'history.062.nc',\n",
       " 'history.063.nc',\n",
       " 'history.064.nc',\n",
       " 'history.065.nc',\n",
       " 'history.066.nc',\n",
       " 'history.067.nc',\n",
       " 'history.068.nc',\n",
       " 'history.069.nc',\n",
       " 'history.070.nc',\n",
       " 'history.071.nc',\n",
       " 'history.072.nc',\n",
       " 'history.073.nc',\n",
       " 'history.074.nc',\n",
       " 'history.075.nc',\n",
       " 'history.076.nc',\n",
       " 'history.077.nc',\n",
       " 'history.078.nc',\n",
       " 'history.079.nc',\n",
       " 'history.080.nc',\n",
       " 'history.081.nc',\n",
       " 'history.082.nc',\n",
       " 'history.083.nc',\n",
       " 'history.084.nc',\n",
       " 'history.085.nc',\n",
       " 'history.086.nc',\n",
       " 'history.087.nc',\n",
       " 'history.088.nc',\n",
       " 'history.089.nc',\n",
       " 'history.090.nc',\n",
       " 'history.091.nc',\n",
       " 'history.092.nc',\n",
       " 'history.093.nc',\n",
       " 'history.094.nc',\n",
       " 'history.095.nc',\n",
       " 'history.096.nc',\n",
       " 'history.097.nc',\n",
       " 'history.098.nc',\n",
       " 'history.099.nc']"
      ]
     },
     "execution_count": 3,
     "metadata": {},
     "output_type": "execute_result"
    }
   ],
   "source": [
    "in_files"
   ]
  },
  {
   "cell_type": "code",
   "execution_count": 5,
   "id": "8217d907-6824-46bb-b5ea-ef170dc835dd",
   "metadata": {},
   "outputs": [],
   "source": [
    "sumfile_o = nc.Dataset(pydir + 'mpas_sum_ts12.nc', 'r')\n",
    "sumfile_n = nc.Dataset(pydir + 'mpas_sum_ts12_new.nc', 'r')"
   ]
  },
  {
   "cell_type": "code",
   "execution_count": 15,
   "id": "0fd2e582-a39a-4409-b4da-cd13aa15e4d5",
   "metadata": {},
   "outputs": [],
   "source": [
    "vars_n = sumfile_n.variables\n",
    "vars_o = sumfile_o.variables\n",
    "gm_n = vars_n[\"global_mean\"][:, :]\n",
    "gm_o = vars_o[\"global_mean\"][:, :]"
   ]
  },
  {
   "cell_type": "code",
   "execution_count": 18,
   "id": "478930f9-c1b6-4ab4-82d1-e5eaa849d955",
   "metadata": {},
   "outputs": [
    {
     "data": {
      "text/plain": [
       "0.0"
      ]
     },
     "execution_count": 18,
     "metadata": {},
     "output_type": "execute_result"
    }
   ],
   "source": [
    "np.max(gm_n - gm_o)"
   ]
  },
  {
   "cell_type": "code",
   "execution_count": 4,
   "id": "f4ea1560-03d7-4f4a-a34d-12fea6b2b3a4",
   "metadata": {
    "tags": []
   },
   "outputs": [],
   "source": [
    "myfile = nc.Dataset(filedir + in_files[0], 'r')\n",
    "\n",
    "input_dims = myfile.dimensions\n",
    "vars_dict = myfile.variables\n",
    "for key in input_dims:\n",
    "    if key == 'nVertLevels':\n",
    "        nlev = len(input_dims[key])\n",
    "    elif key == 'nCells':\n",
    "        ncell = len(input_dims[key])\n",
    "    elif key == 'nEdges':\n",
    "        nedge = len(input_dims[key])\n",
    "    elif key == 'nVertices':\n",
    "        nvertex = len(input_dims[key])"
   ]
  },
  {
   "cell_type": "code",
   "execution_count": 5,
   "id": "1b1a5ff7-aa3c-447c-9dbe-803e10edb88c",
   "metadata": {},
   "outputs": [],
   "source": [
    "vars_dict = myfile.variables"
   ]
  },
  {
   "cell_type": "code",
   "execution_count": 6,
   "id": "b6b43662-f6cf-4b92-aabb-0863e7bc7e49",
   "metadata": {},
   "outputs": [
    {
     "data": {
      "text/plain": [
       "115"
      ]
     },
     "execution_count": 6,
     "metadata": {},
     "output_type": "execute_result"
    }
   ],
   "source": [
    "len(vars_dict)"
   ]
  },
  {
   "cell_type": "code",
   "execution_count": 8,
   "id": "b0209875-d574-4de7-8302-ecebb6668c9b",
   "metadata": {},
   "outputs": [],
   "source": [
    "# only want ones with cell or edge or vertex\n",
    "cell_names = []\n",
    "edge_names = []\n",
    "vertex_names = []\n",
    "t_dim = 'Time'\n",
    "c_dim = 'nCells'\n",
    "e_dim = 'nEdges'\n",
    "v_dim = 'nVertices'\n",
    "for k, v in vars_dict.items():\n",
    "    vd = v.dimensions  # all the variable's dimensions (names)\n",
    "    if t_dim in vd:\n",
    "        if c_dim in vd:\n",
    "            cell_names.append(k)\n",
    "        elif e_dim in vd:\n",
    "            edge_names.append(k)\n",
    "        elif v_dim in vd:\n",
    "            vertex_names.append(k)"
   ]
  },
  {
   "cell_type": "code",
   "execution_count": 9,
   "id": "cf1c32fd-ab03-4d9b-b184-2dec731f8bda",
   "metadata": {},
   "outputs": [
    {
     "data": {
      "text/plain": [
       "['qv',\n",
       " 'qc',\n",
       " 'qr',\n",
       " 'qi',\n",
       " 'qs',\n",
       " 'qg',\n",
       " 'w',\n",
       " 'pressure',\n",
       " 'surface_pressure',\n",
       " 'rho',\n",
       " 'theta',\n",
       " 'relhum',\n",
       " 'divergence',\n",
       " 'ke',\n",
       " 'uReconstructZonal',\n",
       " 'uReconstructMeridional',\n",
       " 'ertel_pv',\n",
       " 'u_pv',\n",
       " 'v_pv',\n",
       " 'theta_pv',\n",
       " 'vort_pv',\n",
       " 'depv_dt_lw',\n",
       " 'depv_dt_sw',\n",
       " 'depv_dt_bl',\n",
       " 'depv_dt_cu',\n",
       " 'depv_dt_mix',\n",
       " 'dtheta_dt_mp',\n",
       " 'depv_dt_mp',\n",
       " 'depv_dt_diab',\n",
       " 'depv_dt_fric',\n",
       " 'depv_dt_diab_pv',\n",
       " 'depv_dt_fric_pv',\n",
       " 'iLev_DT',\n",
       " 'i_rainnc',\n",
       " 'rainnc',\n",
       " 'precipw',\n",
       " 'cuprec',\n",
       " 'i_rainc',\n",
       " 'rainc',\n",
       " 'kpbl',\n",
       " 'hpbl',\n",
       " 'hfx',\n",
       " 'qfx',\n",
       " 'cd',\n",
       " 'cda',\n",
       " 'ck',\n",
       " 'cka',\n",
       " 'lh',\n",
       " 'u10',\n",
       " 'v10',\n",
       " 'q2',\n",
       " 't2m',\n",
       " 'th2m',\n",
       " 'gsw',\n",
       " 'glw',\n",
       " 'acsnow',\n",
       " 'xland',\n",
       " 'skintemp',\n",
       " 'snow',\n",
       " 'snowh',\n",
       " 'sst',\n",
       " 'vegfra',\n",
       " 'xice',\n",
       " 'sh2o',\n",
       " 'smois',\n",
       " 'tslb']"
      ]
     },
     "execution_count": 9,
     "metadata": {},
     "output_type": "execute_result"
    }
   ],
   "source": [
    "cell_names"
   ]
  },
  {
   "cell_type": "code",
   "execution_count": 11,
   "id": "c435447e-c82b-4a3f-8d4d-3c2f9dba3643",
   "metadata": {},
   "outputs": [
    {
     "name": "stdout",
     "output_type": "stream",
     "text": [
      "66 1 1\n"
     ]
    }
   ],
   "source": [
    "num_cell = len(cell_names)\n",
    "num_edge = len(edge_names)\n",
    "num_vertex = len(vertex_names)\n",
    "total = num_cell + num_edge + num_vertex\n",
    "print(num_cell, num_edge, num_vertex)"
   ]
  },
  {
   "cell_type": "code",
   "execution_count": 16,
   "id": "b2143153-d0c4-48c7-9576-78807347ee48",
   "metadata": {},
   "outputs": [],
   "source": [
    "u = myfile.variables[\"u\"]"
   ]
  },
  {
   "cell_type": "code",
   "execution_count": 20,
   "id": "cfa064f9-bd33-4b31-b3d2-6019292a1cbf",
   "metadata": {},
   "outputs": [
    {
     "data": {
      "text/plain": [
       "('Time', 'nEdges', 'nVertLevels')"
      ]
     },
     "execution_count": 20,
     "metadata": {},
     "output_type": "execute_result"
    }
   ],
   "source": [
    "u.dimensions"
   ]
  },
  {
   "cell_type": "code",
   "execution_count": 21,
   "id": "9d1bf0d8-ac41-4521-92bf-95017a65c6c5",
   "metadata": {},
   "outputs": [
    {
     "data": {
      "text/plain": [
       "(21, 122880, 56)"
      ]
     },
     "execution_count": 21,
     "metadata": {},
     "output_type": "execute_result"
    }
   ],
   "source": [
    "u.shape"
   ]
  },
  {
   "cell_type": "code",
   "execution_count": 22,
   "id": "b1c62689-1dd1-4e14-8786-2189c603d36e",
   "metadata": {},
   "outputs": [
    {
     "data": {
      "text/plain": [
       "masked_array(data=[-1.4372829 ,  1.15496864, -5.30527933, ...,\n",
       "                   -3.05349639,  3.59355058,  0.82663623],\n",
       "             mask=False,\n",
       "       fill_value=1e+20)"
      ]
     },
     "execution_count": 22,
     "metadata": {},
     "output_type": "execute_result"
    }
   ],
   "source": [
    "u[8, :, 0]"
   ]
  },
  {
   "cell_type": "code",
   "execution_count": 25,
   "id": "b0dca9e8-69bc-49f9-ac18-c5dbc49ea951",
   "metadata": {},
   "outputs": [],
   "source": [
    "myfile1 = nc.Dataset(filedir + in_files[1], 'r')"
   ]
  },
  {
   "cell_type": "code",
   "execution_count": 28,
   "id": "be355a6d-5155-4492-be23-9c0b4d1a24ec",
   "metadata": {},
   "outputs": [],
   "source": [
    "xice0 = myfile.variables[\"xice\"]\n",
    "xice1 = myfile1.variables[\"xice\"]\n",
    "x0 = xice0[8, :]\n",
    "x1 = xice1[8, :]\n",
    "np.linalg.norm(x0 - x1)"
   ]
  },
  {
   "cell_type": "code",
   "execution_count": 32,
   "id": "a3d92f93-43bc-4567-93e8-92cfd7eacd77",
   "metadata": {},
   "outputs": [
    {
     "data": {
      "text/plain": [
       "0.0"
      ]
     },
     "execution_count": 32,
     "metadata": {},
     "output_type": "execute_result"
    }
   ],
   "source": [
    "vegfra0 = myfile.variables[\"vegfra\"]\n",
    "vegfra1 = myfile1.variables[\"vegfra\"]\n",
    "v0 = vegfra0[8, :]\n",
    "v1 = vegfra1[8, :]\n",
    "np.linalg.norm(v0 - v1)"
   ]
  },
  {
   "cell_type": "code",
   "execution_count": 43,
   "id": "1f6c5adb-c39b-47e1-9be2-3ab8a44b352f",
   "metadata": {},
   "outputs": [
    {
     "data": {
      "text/plain": [
       "0.01578911905965475"
      ]
     },
     "execution_count": 43,
     "metadata": {},
     "output_type": "execute_result"
    }
   ],
   "source": [
    "vname = \"depv_dt_diab\"\n",
    "ddd0 = myfile.variables[vname]\n",
    "ddd1 = myfile1.variables[vname]\n",
    "d0 = ddd0[8, :]\n",
    "d1 = ddd1[8, :]\n",
    "np.linalg.norm(d0 - d1)"
   ]
  },
  {
   "cell_type": "code",
   "execution_count": 44,
   "id": "04a80481-0226-4a1b-8c87-9768842e140d",
   "metadata": {},
   "outputs": [
    {
     "data": {
      "text/plain": [
       "0.0"
      ]
     },
     "execution_count": 44,
     "metadata": {},
     "output_type": "execute_result"
    }
   ],
   "source": [
    "vname = \"sst\"\n",
    "ddd0 = myfile.variables[vname]\n",
    "ddd1 = myfile1.variables[vname]\n",
    "d0 = ddd0[8, :]\n",
    "d1 = ddd1[8, :]\n",
    "np.linalg.norm(d0 - d1)"
   ]
  },
  {
   "cell_type": "code",
   "execution_count": null,
   "id": "317b4652-f093-4627-ae16-365642a987d8",
   "metadata": {},
   "outputs": [],
   "source": []
  }
 ],
 "metadata": {
  "kernelspec": {
   "display_name": "NPL 2023b",
   "language": "python",
   "name": "npl-2023b"
  },
  "language_info": {
   "codemirror_mode": {
    "name": "ipython",
    "version": 3
   },
   "file_extension": ".py",
   "mimetype": "text/x-python",
   "name": "python",
   "nbconvert_exporter": "python",
   "pygments_lexer": "ipython3",
   "version": "3.10.12"
  }
 },
 "nbformat": 4,
 "nbformat_minor": 5
}
