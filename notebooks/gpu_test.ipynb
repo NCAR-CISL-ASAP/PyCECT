{
 "cells": [
  {
   "cell_type": "code",
   "execution_count": 1,
   "id": "84ab5fbb-8c6e-419c-a478-6cae8fd2e638",
   "metadata": {},
   "outputs": [],
   "source": [
    "import json\n",
    "import os\n",
    "\n",
    "import matplotlib.pyplot as plt\n",
    "import netCDF4 as nc\n",
    "import numpy as np\n",
    "import xarray as xr"
   ]
  },
  {
   "cell_type": "code",
   "execution_count": 2,
   "id": "85e7060b-9577-482b-ab7a-aee0d97b13ff",
   "metadata": {},
   "outputs": [],
   "source": [
    "filedir = '/glade/work/abaker/jian/rrtmgp/'\n",
    "pydir = '/glade/u/home/abaker/repos/PyCECT/'"
   ]
  },
  {
   "cell_type": "code",
   "execution_count": 3,
   "id": "214dc40b-6ce9-4104-b65e-3c9283e11fa5",
   "metadata": {},
   "outputs": [],
   "source": [
    "save_filename = filedir + 'pycect_results/savefile_t1.nc'\n",
    "ds = xr.open_dataset(save_filename)\n",
    "sum_filename = filedir + 'ens/sum.rrtmgp_cpu.ts1.nc'\n",
    "sum_ds = xr.open_dataset(sum_filename)"
   ]
  },
  {
   "cell_type": "code",
   "execution_count": 4,
   "id": "d50b6282-5acc-42ac-9499-4184292d6fe0",
   "metadata": {},
   "outputs": [],
   "source": [
    "# from savefile\n",
    "test_size = ds.dims['test_size']\n",
    "ens_size = ds.dims['ens_size']\n",
    "nvars = ds.dims['nvars']\n",
    "\n",
    "# get var names\n",
    "vars = ds['vars'].values\n",
    "\n",
    "# get test scores and means\n",
    "t_scores = ds['scores'].values\n",
    "t_std_gm = ds['std_gm'].values\n",
    "t_gm = ds['gm'].values\n",
    "\n",
    "# get ens pc scores distribution (nvars = npcs)\n",
    "# these are mean zero, so array just contains sigma)\n",
    "ens_score_dist = ds['ens_sigma_scores'].values\n",
    "# this is the  standardized global means (nvars by ens_size) => so dist mean = 0 for each var\n",
    "ens_std_gm = ds['ens_std_gm'].values"
   ]
  },
  {
   "cell_type": "code",
   "execution_count": 5,
   "id": "a2d950a5-c511-490b-9396-2677e59eda64",
   "metadata": {},
   "outputs": [],
   "source": [
    "# from sumfile\n",
    "ens_gm = sum_ds['global_mean'].values\n",
    "P = sum_ds['loadings_gm'].values"
   ]
  },
  {
   "cell_type": "code",
   "execution_count": 6,
   "id": "1a2eca19-a3f3-4eb1-a2d7-a32ac6df2e80",
   "metadata": {},
   "outputs": [],
   "source": [
    "str_vars = []\n",
    "for i in range(vars.size):\n",
    "    str_vars.append(vars[i].decode('UTF-8'))"
   ]
  },
  {
   "cell_type": "code",
   "execution_count": 7,
   "id": "8930de14-8bff-4fe0-b1d5-d2bda7146a5b",
   "metadata": {},
   "outputs": [
    {
     "data": {
      "text/plain": [
       "(261, 3)"
      ]
     },
     "execution_count": 7,
     "metadata": {},
     "output_type": "execute_result"
    }
   ],
   "source": [
    "t_scores.shape"
   ]
  },
  {
   "cell_type": "code",
   "execution_count": 8,
   "id": "ef3dc177-06f6-473f-b26e-a95baa4d7ca0",
   "metadata": {},
   "outputs": [
    {
     "data": {
      "text/plain": [
       "13"
      ]
     },
     "execution_count": 8,
     "metadata": {},
     "output_type": "execute_result"
    }
   ],
   "source": [
    "name = 'CLOUD'\n",
    "var_id = str_vars.index(name)\n",
    "var_id"
   ]
  },
  {
   "cell_type": "code",
   "execution_count": 9,
   "id": "772de54c-0519-4d78-b319-73889e130e74",
   "metadata": {},
   "outputs": [],
   "source": [
    "var_id = 256"
   ]
  },
  {
   "cell_type": "code",
   "execution_count": 10,
   "id": "0d8ea5e9-6ae2-4723-aa7f-35c9ce507a36",
   "metadata": {},
   "outputs": [
    {
     "name": "stdout",
     "output_type": "stream",
     "text": [
      "soa_a2DDF\n",
      "Ensemble standardized global mean distribution\n",
      "99.5 percentile =  1.9380032053586154\n",
      "mean =  -2.0737189743158523e-13\n",
      "min =  -3.0244463610816514\n",
      "max =  2.712823190006004\n"
     ]
    }
   ],
   "source": [
    "print(str_vars[var_id])\n",
    "print('Ensemble standardized global mean distribution')\n",
    "print('99.5 percentile = ', np.percentile(ens_std_gm[var_id, :], 99.5))\n",
    "print('mean = ', ens_std_gm[var_id, :].mean())\n",
    "print('min = ', ens_std_gm[var_id, :].min())\n",
    "print('max = ', ens_std_gm[var_id, :].max())"
   ]
  },
  {
   "cell_type": "code",
   "execution_count": 11,
   "id": "8505c502-4cd9-4377-846e-c7f6a8bd24df",
   "metadata": {},
   "outputs": [
    {
     "name": "stdout",
     "output_type": "stream",
     "text": [
      "soa_a2DDF\n",
      "Test standardized gm\n"
     ]
    },
    {
     "data": {
      "text/plain": [
       "array([ 0.08914149, -0.44323204, -1.89011598])"
      ]
     },
     "execution_count": 11,
     "metadata": {},
     "output_type": "execute_result"
    }
   ],
   "source": [
    "print(str_vars[var_id])\n",
    "print('Test standardized gm')\n",
    "t_std_gm[var_id, :]"
   ]
  },
  {
   "cell_type": "code",
   "execution_count": 12,
   "id": "7f3f7499-c64b-4ef1-bdc6-47204ee1c217",
   "metadata": {},
   "outputs": [
    {
     "name": "stdout",
     "output_type": "stream",
     "text": [
      "Ensemble ORIG global mean distribution\n",
      "mean =  1.0224689042417041e-15\n",
      "min =  1.021540269608125e-15\n",
      "max =  1.0233018572083804e-15\n"
     ]
    }
   ],
   "source": [
    "print('Ensemble ORIG global mean distribution')\n",
    "print('mean = ', ens_gm[var_id, :].mean())\n",
    "print('min = ', ens_gm[var_id, :].min())\n",
    "print('max = ', ens_gm[var_id, :].max())"
   ]
  },
  {
   "cell_type": "code",
   "execution_count": 13,
   "id": "bfb7162e-4f7d-471f-8dbc-182d5e7cad1b",
   "metadata": {},
   "outputs": [
    {
     "name": "stdout",
     "output_type": "stream",
     "text": [
      "Test ORIG gm\n"
     ]
    },
    {
     "data": {
      "text/plain": [
       "array([1.02249627e-15, 1.02233281e-15, 1.02188856e-15])"
      ]
     },
     "execution_count": 13,
     "metadata": {},
     "output_type": "execute_result"
    }
   ],
   "source": [
    "print('Test ORIG gm')\n",
    "t_gm[var_id, :]"
   ]
  },
  {
   "cell_type": "code",
   "execution_count": 14,
   "id": "544cf9f1-422d-4690-8b08-a9d24d590dd3",
   "metadata": {},
   "outputs": [
    {
     "name": "stdout",
     "output_type": "stream",
     "text": [
      "PC  6\n",
      "2*sigma =  7.633742430563471\n",
      "test run score =  -9.784577213794682\n",
      "PC  9\n",
      "2*sigma =  4.8829027415844575\n",
      "test run score =  -8.2470911089691\n",
      "PC  11\n",
      "2*sigma =  4.076377235183916\n",
      "test run score =  -6.913832203694438\n",
      "PC  12\n",
      "2*sigma =  3.852787926200952\n",
      "test run score =  -8.726343198832296\n",
      "PC  14\n",
      "2*sigma =  3.489280656669743\n",
      "test run score =  8.599997690649525\n",
      "PC  16\n",
      "2*sigma =  3.245409506909792\n",
      "test run score =  -5.310481299643518\n",
      "PC  20\n",
      "2*sigma =  2.6754446863886727\n",
      "test run score =  6.090352013547006\n",
      "PC  21\n",
      "2*sigma =  2.636489939029982\n",
      "test run score =  6.263745020652159\n",
      "PC  23\n",
      "2*sigma =  2.406223171389322\n",
      "test run score =  -5.352936225536784\n",
      "PC  25\n",
      "2*sigma =  2.262938335449712\n",
      "test run score =  2.4264128700839223\n",
      "PC  27\n",
      "2*sigma =  2.2006675326243\n",
      "test run score =  -2.47304527185811\n",
      "PC  28\n",
      "2*sigma =  2.0786132315256225\n",
      "test run score =  -5.223176395478287\n",
      "PC  32\n",
      "2*sigma =  1.8444609407030084\n",
      "test run score =  6.402810324660048\n",
      "PC  34\n",
      "2*sigma =  1.7630887020405785\n",
      "test run score =  -2.2003090544978097\n",
      "PC  35\n",
      "2*sigma =  1.7281082425352823\n",
      "test run score =  9.44846316146252\n",
      "PC  36\n",
      "2*sigma =  1.7123099432399735\n",
      "test run score =  -5.443038238414678\n",
      "PC  37\n",
      "2*sigma =  1.6548972706404619\n",
      "test run score =  -3.5799537086927478\n",
      "PC  38\n",
      "2*sigma =  1.623050843130866\n",
      "test run score =  4.413080227103031\n",
      "PC  39\n",
      "2*sigma =  1.5245475661175676\n",
      "test run score =  -1.535991133375545\n",
      "PC  40\n",
      "2*sigma =  1.4952626731506022\n",
      "test run score =  -2.1173611086762394\n",
      "PC  41\n",
      "2*sigma =  1.4555898545677626\n",
      "test run score =  2.1124036606994645\n",
      "PC  42\n",
      "2*sigma =  1.4476578925767727\n",
      "test run score =  -2.9206688205712976\n",
      "PC  43\n",
      "2*sigma =  1.4123900355990728\n",
      "test run score =  -6.055240347728494\n",
      "PC  44\n",
      "2*sigma =  1.3996740749005612\n",
      "test run score =  -8.723239516136623\n",
      "PC  45\n",
      "2*sigma =  1.3632562789024283\n",
      "test run score =  -4.117621900323618\n",
      "PC  46\n",
      "2*sigma =  1.3321399995320635\n",
      "test run score =  4.944670427158979\n",
      "PC  47\n",
      "2*sigma =  1.3209860839928806\n",
      "test run score =  -3.0578593606777043\n",
      "PC  50\n",
      "2*sigma =  1.2417703288316215\n",
      "test run score =  -4.653213050711537\n"
     ]
    }
   ],
   "source": [
    "# list all the failing PCs from run 1\n",
    "# we have nvars PCs, but we are only looking at a subset (usually 50)\n",
    "npc = 50\n",
    "run = 0\n",
    "for pc_i in range(npc):\n",
    "    sig = ens_score_dist[pc_i]\n",
    "    score = t_scores[pc_i, run]\n",
    "    if abs(score) > 2.0 * sig:\n",
    "        print('PC ', pc_i + 1)\n",
    "        print('2*sigma = ', 2.0 * sig)\n",
    "        print('test run score = ', score)"
   ]
  },
  {
   "cell_type": "code",
   "execution_count": 15,
   "id": "fe69fa0c-dd49-4cde-811e-6b08760b4018",
   "metadata": {},
   "outputs": [],
   "source": [
    "# remember 0-index here compared to the pyCECT output\n",
    "# PC 6: failed 3 runs  [1, 2, 3]\n",
    "# PC 7: failed 1 runs  [2]\n",
    "# PC 9: failed 3 runs  [1, 2, 3]\n",
    "# PC 11: failed 3 runs  [1, 2, 3]\n",
    "# PC 12: failed 3 runs  [1, 2, 3]\n",
    "\n",
    "pc_id = 5  # same as 6 above"
   ]
  },
  {
   "cell_type": "code",
   "execution_count": 16,
   "id": "a9ae8f2a-eca8-47bd-a168-2598d568c520",
   "metadata": {},
   "outputs": [
    {
     "name": "stdout",
     "output_type": "stream",
     "text": [
      "ensemble: sigma =  3.8168712152817355\n",
      "ensemble: 2*sigma =  7.633742430563471\n"
     ]
    }
   ],
   "source": [
    "print('ensemble: sigma = ', ens_score_dist[pc_id])\n",
    "print('ensemble: 2*sigma = ', 2 * ens_score_dist[pc_id])"
   ]
  },
  {
   "cell_type": "code",
   "execution_count": 17,
   "id": "efb24ff8-1f74-4f9d-a00e-9ef4e35c2ec8",
   "metadata": {},
   "outputs": [
    {
     "data": {
      "text/plain": [
       "array([ -9.78457721,  -9.14846334, -11.26124663])"
      ]
     },
     "execution_count": 17,
     "metadata": {},
     "output_type": "execute_result"
    }
   ],
   "source": [
    "t_scores[pc_id, :]"
   ]
  },
  {
   "cell_type": "code",
   "execution_count": 18,
   "id": "c1b15c86-4aaf-44f1-929c-089eeab8cf19",
   "metadata": {},
   "outputs": [],
   "source": [
    "# which variables contribute most to this pc?\n",
    "# each column of P corresponds to the variable weights of each PC, so PC1 weights are in the first column (remember 0-indexing)\n",
    "P.shape\n",
    "wts = abs(P[:, pc_id])\n",
    "sort_wts = np.argsort(wts)[::-1]"
   ]
  },
  {
   "cell_type": "code",
   "execution_count": 18,
   "id": "89f9ba5e-2c1b-4124-a6dc-101032e968fa",
   "metadata": {},
   "outputs": [
    {
     "data": {
      "text/plain": [
       "array([256,  78,  70, 182, 235, 212, 211,  73,  72, 102,  13,  79, 181,\n",
       "       108, 217, 216,   3,  55,  75, 224])"
      ]
     },
     "execution_count": 18,
     "metadata": {},
     "output_type": "execute_result"
    }
   ],
   "source": [
    "# look at the 20 biggest weights\n",
    "sort_wts[:20]"
   ]
  },
  {
   "cell_type": "code",
   "execution_count": 19,
   "id": "e17d0923-6586-473b-b8e4-0867baca86b9",
   "metadata": {},
   "outputs": [
    {
     "data": {
      "text/plain": [
       "array([0.15535576, 0.1484808 , 0.14026985, 0.13960554, 0.13703905,\n",
       "       0.13234275, 0.13228836, 0.12591671, 0.12547456, 0.12240678,\n",
       "       0.12212465, 0.12194505, 0.11930251, 0.11723972, 0.11666592,\n",
       "       0.11659785, 0.11625502, 0.11443161, 0.11215421, 0.11135863])"
      ]
     },
     "execution_count": 19,
     "metadata": {},
     "output_type": "execute_result"
    }
   ],
   "source": [
    "wts[sort_wts][:20]"
   ]
  },
  {
   "cell_type": "code",
   "execution_count": 20,
   "id": "de9c2285-7778-4b41-8cd5-7b195ffd8d1a",
   "metadata": {},
   "outputs": [
    {
     "name": "stdout",
     "output_type": "stream",
     "text": [
      "soa_a2DDF :  0.15535576082001196\n",
      "WPTHVP_CLUBB :  0.14848080289165497\n",
      "VV :  0.14026985274737724\n",
      "bc_c1SFWET :  0.13960554137545306\n",
      "pom_c1SFWET :  0.13703905028239252\n",
      "num_a1_CMXF :  0.13234274611540506\n",
      "num_a1_CLXF :  0.13228836164794358\n",
      "WP2_ZT_CLUBB :  0.12591671052080944\n",
      "WP2_CLUBB :  0.12547455850410802\n",
      "num_a4 :  0.12240678117481475\n",
      "CLOUD :  0.12212464767931022\n",
      "WSUB :  0.12194505276787321\n",
      "bc_a4_SRF :  0.11930250851012852\n",
      "pom_a4 :  0.11723971701756816\n",
      "num_a2_CMXF :  0.1166659160427699\n",
      "num_a2_CLXF :  0.11659785132333875\n",
      "ANSNOW :  0.11625502403697753\n",
      "THLM_CLUBB :  0.1144316078092251\n",
      "WPRCP_CLUBB :  0.11215421165837641\n",
      "num_a4_SRF :  0.11135863358402734\n"
     ]
    }
   ],
   "source": [
    "# which vars are these?\n",
    "for i in sort_wts[:20]:\n",
    "    print(str_vars[i], \": \", wts[i])"
   ]
  },
  {
   "cell_type": "code",
   "execution_count": 21,
   "id": "9eba4bae-9111-4443-a624-3e98ac0e77f6",
   "metadata": {},
   "outputs": [
    {
     "name": "stdout",
     "output_type": "stream",
     "text": [
      "yes\n",
      "256\n"
     ]
    }
   ],
   "source": [
    "i = \"soa_a2DDF\"\n",
    "if i in str_vars:\n",
    "    print('yes')\n",
    "    print(str_vars.index(i))"
   ]
  },
  {
   "cell_type": "code",
   "execution_count": 19,
   "id": "ac2fe4ec-36e0-4153-ab9f-8ac5a592877c",
   "metadata": {},
   "outputs": [],
   "source": [
    "import random"
   ]
  },
  {
   "cell_type": "code",
   "execution_count": 20,
   "id": "61db0e7a-11be-40ab-815a-f91da86fa365",
   "metadata": {},
   "outputs": [],
   "source": [
    "def random_pick(num_pick, end):\n",
    "    ar = range(0, end)\n",
    "    rand_list = random.sample(ar, num_pick)\n",
    "    return rand_listz"
   ]
  },
  {
   "cell_type": "code",
   "execution_count": 21,
   "id": "98b0f5e0-3317-4de0-aee9-0dc82dc33215",
   "metadata": {},
   "outputs": [],
   "source": [
    "def get_pertlim_uf(rand_num):\n",
    "    i = rand_num\n",
    "    if i == 0:\n",
    "        ptlim = 0\n",
    "    else:\n",
    "        j = 2 * int((i - 1) / 100) + 101\n",
    "        k = (i - 1) % 100\n",
    "        if i % 2 != 0:  # odd\n",
    "            ll = j + int(k / 2) * 18\n",
    "            ippt = str(ll).zfill(3)\n",
    "            ptlim = \"0.\" + ippt + \"d-13\"\n",
    "        else:  # even\n",
    "            ll = j + int((k - 1) / 2) * 18\n",
    "            ippt = str(ll).zfill(3)\n",
    "            ptlim = \"-0.\" + ippt + \"d-13\"\n",
    "    return ptlim"
   ]
  },
  {
   "cell_type": "code",
   "execution_count": 31,
   "id": "cc6abc9e-d7e0-4949-8791-a8407c31243c",
   "metadata": {},
   "outputs": [
    {
     "data": {
      "text/plain": [
       "'0.119d-13'"
      ]
     },
     "execution_count": 31,
     "metadata": {},
     "output_type": "execute_result"
    }
   ],
   "source": []
  },
  {
   "cell_type": "code",
   "execution_count": 141,
   "id": "16878196-cb4f-401b-9404-5daad17872b6",
   "metadata": {},
   "outputs": [
    {
     "name": "stdout",
     "output_type": "stream",
     "text": [
      "i =  902\n",
      "j =  119\n",
      "k =  1\n",
      "119\n",
      "-0.119d-13\n"
     ]
    }
   ],
   "source": [
    "i = 902\n",
    "print(\"i = \", i)\n",
    "j = 2 * int((i - 1) / 100) + 101\n",
    "print(\"j = \", j)\n",
    "k = (i - 1) % 100\n",
    "print(\"k = \", k)\n",
    "if i % 2 != 0:  # odd\n",
    "    ll = j + int(k / 2) * 18\n",
    "    ippt = str(ll).zfill(3)\n",
    "    print(ippt)\n",
    "    ptlim = \"0.\" + ippt + \"d-13\"\n",
    "\n",
    "else:  # even\n",
    "    ll = j + int((k - 1) / 2) * 18\n",
    "    ippt = str(ll).zfill(3)\n",
    "    print(ippt)\n",
    "    ptlim = \"-0.\" + ippt + \"d-13\"\n",
    "\n",
    "print(ptlim)"
   ]
  },
  {
   "cell_type": "code",
   "execution_count": 66,
   "id": "4d6ab984-4c62-4e61-8146-017fa8ca13c0",
   "metadata": {},
   "outputs": [
    {
     "data": {
      "text/plain": [
       "90"
      ]
     },
     "execution_count": 66,
     "metadata": {},
     "output_type": "execute_result"
    }
   ],
   "source": [
    "18 * 5"
   ]
  },
  {
   "cell_type": "code",
   "execution_count": 145,
   "id": "e71669fd-bbe7-4e4c-a17e-2b3b1a165c56",
   "metadata": {},
   "outputs": [
    {
     "name": "stdout",
     "output_type": "stream",
     "text": [
      "i =  4\n",
      "j =  101\n",
      "k =  3\n",
      "119\n",
      "-0.119d-13\n"
     ]
    }
   ],
   "source": [
    "i = 4\n",
    "print(\"i = \", i)\n",
    "if i == 0:\n",
    "    ptlim = 0\n",
    "elif i >= 1800:\n",
    "    print(\"don't support >= 2000\")\n",
    "else:\n",
    "    if i < 900:\n",
    "        j = 2 * int((i - 1) / 100) + 101\n",
    "    elif i < 1000:\n",
    "        j = 2 * int((i - 1) / 100) + 100\n",
    "    elif i < 1900:\n",
    "        j = 2 * int((i - 1001) / 100) + 102\n",
    "    print(\"j = \", j)\n",
    "    k = (i - 1) % 100  # this is just last 2 digits of i-1\n",
    "    print(\"k = \", k)\n",
    "    if i % 2 != 0:  # odd\n",
    "        ll = j + int(k / 2) * 18\n",
    "        ippt = str(ll).zfill(3)\n",
    "        ptlim = \"0.\" + ippt + \"d-13\"\n",
    "    else:  # even\n",
    "        ll = j + int((k - 1) / 2) * 18\n",
    "        ippt = str(ll).zfill(3)\n",
    "        ptlim = \"-0.\" + ippt + \"d-13\"\n",
    "\n",
    "print(ippt)\n",
    "print(ptlim)"
   ]
  },
  {
   "cell_type": "code",
   "execution_count": 1,
   "id": "467cb044-d4f9-4d0b-9b24-1a75c3628bc3",
   "metadata": {},
   "outputs": [],
   "source": [
    "import operator as op\n",
    "\n",
    "\n",
    "def unique(list1):\n",
    "\n",
    "    # initialize a null list\n",
    "    unique_list = []\n",
    "\n",
    "    # traverse for all elements\n",
    "    for x in list1:\n",
    "        # check if exists in unique_list or not\n",
    "        if op.countOf(unique_list, x) == 0:\n",
    "            unique_list.append(x)\n",
    "        else:\n",
    "            print(x)\n",
    "    # print list\n",
    "    # for x in unique_list:\n",
    "    #    print(x)\n",
    "    return unique_list"
   ]
  },
  {
   "cell_type": "code",
   "execution_count": 19,
   "id": "af7bc1a5-4390-416a-b4f2-061a5ef2a023",
   "metadata": {},
   "outputs": [],
   "source": [
    "def big_get_pertlim_uf(rand_num):\n",
    "    i = rand_num\n",
    "    if i == 0:\n",
    "        ptlim = 0\n",
    "    elif i > 2000:\n",
    "        print(\"don't support sizes > 2000\")\n",
    "    elif i <= 1800:\n",
    "        if i <= 900:  # [1-900]\n",
    "            j = 2 * int((i - 1) / 100) + 101\n",
    "        elif i <= 1000:  # [901 - 1000]\n",
    "            j = 2 * int((i - 1) / 100) + 100\n",
    "        elif i <= 1800:  # [1001-1800]\n",
    "            j = 2 * int((i - 1001) / 100) + 102\n",
    "        # print(\"j = \", j)\n",
    "        k = (i - 1) % 100  # this is just last 2 digits of i-1\n",
    "        # print(\"k = \", k)\n",
    "        if i % 2 != 0:  # odd\n",
    "            ll = j + int(k / 2) * 18\n",
    "            ippt = str(ll).zfill(3)\n",
    "            ptlim = \"0.\" + ippt + \"d-13\"\n",
    "        else:  # even\n",
    "            ll = j + int((k - 1) / 2) * 18\n",
    "            ippt = str(ll).zfill(3)\n",
    "            ptlim = \"-0.\" + ippt + \"d-13\"\n",
    "    else:  # [1801 - 2000]\n",
    "        if i <= 1900:  # [1801-1900]\n",
    "            j = 1\n",
    "        else:  # [1901-2000]\n",
    "            j = 2\n",
    "        k = (i - 1) % 100\n",
    "        if i % 2 != 0:  # odd\n",
    "            ll = j + int(k / 2) * 2\n",
    "            ippt = str(ll).zfill(3)\n",
    "            ptlim = \"0.\" + ippt + \"d-13\"\n",
    "        else:  # even\n",
    "            ll = j + int((k - 1) / 2) * 2\n",
    "            ippt = str(ll).zfill(3)\n",
    "            ptlim = \"-0.\" + ippt + \"d-13\"\n",
    "\n",
    "    return ptlim"
   ]
  },
  {
   "cell_type": "code",
   "execution_count": 20,
   "id": "380685dc-155b-42a6-8699-86c37b7a0695",
   "metadata": {},
   "outputs": [
    {
     "data": {
      "text/plain": [
       "'0.118d-13'"
      ]
     },
     "execution_count": 20,
     "metadata": {},
     "output_type": "execute_result"
    }
   ],
   "source": [
    "big_get_pertlim_uf(901)"
   ]
  },
  {
   "cell_type": "code",
   "execution_count": 21,
   "id": "c4be4fcc-a07d-4b96-ade1-5a6b023cd107",
   "metadata": {},
   "outputs": [
    {
     "data": {
      "text/plain": [
       "'0.999d-13'"
      ]
     },
     "execution_count": 21,
     "metadata": {},
     "output_type": "execute_result"
    }
   ],
   "source": [
    "big_get_pertlim_uf(899)"
   ]
  },
  {
   "cell_type": "code",
   "execution_count": 22,
   "id": "175ad5c6-42c9-4b15-8265-e080731e087b",
   "metadata": {},
   "outputs": [],
   "source": [
    "pert_list = []\n",
    "for i in range(2001):\n",
    "    # print(i)\n",
    "    pert_list.append(big_get_pertlim_uf(i))"
   ]
  },
  {
   "cell_type": "code",
   "execution_count": null,
   "id": "bb207d9b-d16a-4139-a78b-90b0d49e2e3c",
   "metadata": {},
   "outputs": [],
   "source": []
  },
  {
   "cell_type": "code",
   "execution_count": 23,
   "id": "5d22fab7-8336-4028-b13a-f6f7c1ffd94b",
   "metadata": {},
   "outputs": [
    {
     "data": {
      "text/plain": [
       "2001"
      ]
     },
     "execution_count": 23,
     "metadata": {},
     "output_type": "execute_result"
    }
   ],
   "source": [
    "len(pert_list)"
   ]
  },
  {
   "cell_type": "code",
   "execution_count": 24,
   "id": "2f246558-d1c4-44db-94e4-b30a9a8203ca",
   "metadata": {},
   "outputs": [
    {
     "data": {
      "text/plain": [
       "2001"
      ]
     },
     "execution_count": 24,
     "metadata": {},
     "output_type": "execute_result"
    }
   ],
   "source": [
    "a = unique(pert_list)\n",
    "len(a)"
   ]
  },
  {
   "cell_type": "code",
   "execution_count": null,
   "id": "9522e169-0719-44c2-a89f-26d2b478a5c9",
   "metadata": {},
   "outputs": [],
   "source": []
  },
  {
   "cell_type": "code",
   "execution_count": null,
   "id": "3514dcc8-88f6-4671-bb97-41277f0a6f1e",
   "metadata": {},
   "outputs": [],
   "source": []
  }
 ],
 "metadata": {
  "kernelspec": {
   "display_name": "NPL 2023b",
   "language": "python",
   "name": "npl-2023b"
  },
  "language_info": {
   "codemirror_mode": {
    "name": "ipython",
    "version": 3
   },
   "file_extension": ".py",
   "mimetype": "text/x-python",
   "name": "python",
   "nbconvert_exporter": "python",
   "pygments_lexer": "ipython3",
   "version": "3.10.12"
  }
 },
 "nbformat": 4,
 "nbformat_minor": 5
}
